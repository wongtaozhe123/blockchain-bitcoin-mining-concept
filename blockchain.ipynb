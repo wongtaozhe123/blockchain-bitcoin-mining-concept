{
  "nbformat": 4,
  "nbformat_minor": 0,
  "metadata": {
    "colab": {
      "name": "blockchain.ipynb",
      "provenance": []
    },
    "kernelspec": {
      "name": "python3",
      "display_name": "Python 3"
    }
  },
  "cells": [
    {
      "cell_type": "code",
      "metadata": {
        "id": "RFT7Xusn31Co"
      },
      "source": [
        "from hashlib import sha256\r\n",
        "import datetime"
      ],
      "execution_count": null,
      "outputs": []
    },
    {
      "cell_type": "code",
      "metadata": {
        "id": "EcErllam4BlK"
      },
      "source": [
        "def getSha256(words):\r\n",
        "    return sha256((words).encode('ascii')).hexdigest()\r\n",
        "\r\n",
        "def mining(blockNumber,transactions,previousHash,prefixZeros):\r\n",
        "    noOfOnce=1\r\n",
        "    MAX=1000000000\r\n",
        "    prefix0str='0'*prefixZeros\r\n",
        "    for noOfOnce in range(MAX):\r\n",
        "        word=str(blockNumber)+transactions+previousHash+str(noOfOnce)\r\n",
        "        newHash=getSha256(word)\r\n",
        "        if newHash.startswith(prefix0str):\r\n",
        "            print('Get mined bitcoins, value: ',noOfOnce)\r\n",
        "            return newHash\r\n",
        "    raise BaseException('Blockchain not available')"
      ],
      "execution_count": null,
      "outputs": []
    },
    {
      "cell_type": "code",
      "metadata": {
        "colab": {
          "base_uri": "https://localhost:8080/"
        },
        "id": "r9D9wC2O4dcu",
        "outputId": "47764e8c-bc38-44dd-b6d8-82598aaf4e96"
      },
      "source": [
        "print('Starts at:',datetime.datetime.now())\r\n",
        "sha256(('-> aaa 012').encode('ascii')).hexdigest()\r\n",
        "mining(3,'I am legend','fd3dedf6bbab04012686a37c9c9f3e0458057f566fd44811f0d33d840e5163ef',4)\r\n",
        "print('Ends at:',datetime.datetime.now())"
      ],
      "execution_count": null,
      "outputs": [
        {
          "output_type": "stream",
          "text": [
            "Starts at: 2021-02-02 13:34:29.108462\n",
            "Get mined bitcoins, value:  8698\n",
            "Ends at: 2021-02-02 13:34:29.127485\n"
          ],
          "name": "stdout"
        }
      ]
    },
    {
      "cell_type": "code",
      "metadata": {
        "id": "3pYc5H8r4ipa"
      },
      "source": [
        ""
      ],
      "execution_count": null,
      "outputs": []
    }
  ]
}